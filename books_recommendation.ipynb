{
 "nbformat": 4,
 "nbformat_minor": 0,
 "metadata": {
  "colab": {
   "provenance": []
  },
  "kernelspec": {
   "name": "python3",
   "language": "python",
   "display_name": "Python 3 (ipykernel)"
  },
  "language_info": {
   "name": "python"
  }
 },
 "cells": [
  {
   "cell_type": "code",
   "execution_count": 7,
   "metadata": {
    "id": "dshloVzWkIdO",
    "ExecuteTime": {
     "end_time": "2024-09-25T17:41:28.810720600Z",
     "start_time": "2024-09-25T17:41:28.417157400Z"
    }
   },
   "outputs": [],
   "source": [
    "#importing the necessary libraries\n",
    "import pandas as pd\n",
    "import numpy as np\n",
    "import cohere\n",
    "import pinecone\n",
    "from pinecone import Pinecone\n",
    "from pinecone import ServerlessSpec"
   ]
  },
  {
   "cell_type": "code",
   "source": [
    "#setting up my cohere API using API key\n",
    "co = cohere.Client(\"kiPt2Uk4mEr2UxymdrofzBYblAGXZY5LF2u0FoQB\")"
   ],
   "metadata": {
    "id": "yJ_TiAF7BCbM",
    "ExecuteTime": {
     "end_time": "2024-09-25T17:41:28.812776Z",
     "start_time": "2024-09-25T17:41:28.429135Z"
    }
   },
   "execution_count": 8,
   "outputs": []
  },
  {
   "cell_type": "code",
   "source": [
    "#loading my amazon books datasets\n",
    "book_data = pd.read_json('amazon_books_data.json')"
   ],
   "metadata": {
    "id": "f2KFkL6IBF-g",
    "colab": {
     "base_uri": "https://localhost:8080/",
     "height": 304
    },
    "outputId": "1e0035dc-6768-45e0-fa69-9a75772365ef",
    "ExecuteTime": {
     "end_time": "2024-09-25T17:41:28.923891400Z",
     "start_time": "2024-09-25T17:41:28.541978300Z"
    }
   },
   "execution_count": 9,
   "outputs": []
  },
  {
   "cell_type": "code",
   "source": [
    "#info about my datasets\n",
    "book_data.info()"
   ],
   "metadata": {
    "id": "7XYX9AlvBxV6",
    "ExecuteTime": {
     "end_time": "2024-09-25T17:41:28.976458200Z",
     "start_time": "2024-09-25T17:41:28.924894Z"
    }
   },
   "execution_count": 10,
   "outputs": [
    {
     "name": "stdout",
     "output_type": "stream",
     "text": [
      "<class 'pandas.core.frame.DataFrame'>\n",
      "RangeIndex: 2159 entries, 0 to 2158\n",
      "Data columns (total 14 columns):\n",
      " #   Column              Non-Null Count  Dtype  \n",
      "---  ------              --------------  -----  \n",
      " 0   id                  2159 non-null   int64  \n",
      " 1   name                2159 non-null   object \n",
      " 2   summary             1919 non-null   object \n",
      " 3   category            2159 non-null   object \n",
      " 4   book_type           2159 non-null   object \n",
      " 5   production_date     2159 non-null   object \n",
      " 6   authors             2159 non-null   object \n",
      " 7   hard_cover_price    2159 non-null   object \n",
      " 8   paper_back_price    1883 non-null   object \n",
      " 9   book_rating         2159 non-null   float64\n",
      " 10  total_user_ratings  2159 non-null   object \n",
      " 11  number_of_pages     2159 non-null   int64  \n",
      " 12  language            2159 non-null   object \n",
      " 13  reviews             2159 non-null   object \n",
      "dtypes: float64(1), int64(2), object(11)\n",
      "memory usage: 236.3+ KB\n"
     ]
    }
   ]
  },
  {
   "cell_type": "code",
   "source": [
    "#removing duplicate names in my datasets\n",
    "book_data = book_data.drop_duplicates('name')"
   ],
   "metadata": {
    "id": "XczMYGFnNctH",
    "ExecuteTime": {
     "end_time": "2024-09-25T17:41:28.997969900Z",
     "start_time": "2024-09-25T17:41:28.969444Z"
    }
   },
   "execution_count": 11,
   "outputs": []
  },
  {
   "cell_type": "code",
   "source": [
    "#duplicate books in the datasets have been removed\n",
    "book_data.info()"
   ],
   "metadata": {
    "id": "9Vn0-ZXUNphT",
    "ExecuteTime": {
     "end_time": "2024-09-25T17:41:29.108016300Z",
     "start_time": "2024-09-25T17:41:28.997969900Z"
    }
   },
   "execution_count": 12,
   "outputs": [
    {
     "name": "stdout",
     "output_type": "stream",
     "text": [
      "<class 'pandas.core.frame.DataFrame'>\n",
      "Index: 1748 entries, 0 to 2158\n",
      "Data columns (total 14 columns):\n",
      " #   Column              Non-Null Count  Dtype  \n",
      "---  ------              --------------  -----  \n",
      " 0   id                  1748 non-null   int64  \n",
      " 1   name                1748 non-null   object \n",
      " 2   summary             1549 non-null   object \n",
      " 3   category            1748 non-null   object \n",
      " 4   book_type           1748 non-null   object \n",
      " 5   production_date     1748 non-null   object \n",
      " 6   authors             1748 non-null   object \n",
      " 7   hard_cover_price    1748 non-null   object \n",
      " 8   paper_back_price    1515 non-null   object \n",
      " 9   book_rating         1748 non-null   float64\n",
      " 10  total_user_ratings  1748 non-null   object \n",
      " 11  number_of_pages     1748 non-null   int64  \n",
      " 12  language            1748 non-null   object \n",
      " 13  reviews             1748 non-null   object \n",
      "dtypes: float64(1), int64(2), object(11)\n",
      "memory usage: 204.8+ KB\n"
     ]
    }
   ]
  },
  {
   "cell_type": "code",
   "source": [
    "#converting all my columns into strings\n",
    "book_data = book_data.astype(str)"
   ],
   "metadata": {
    "id": "7w9D0VZrdF1G",
    "ExecuteTime": {
     "end_time": "2024-09-25T17:41:29.109023200Z",
     "start_time": "2024-09-25T17:41:29.049287400Z"
    }
   },
   "execution_count": 13,
   "outputs": []
  },
  {
   "cell_type": "code",
   "source": [
    "book_data.info()"
   ],
   "metadata": {
    "id": "TczREL3Ge4r0",
    "ExecuteTime": {
     "end_time": "2024-09-25T17:41:29.248978700Z",
     "start_time": "2024-09-25T17:41:29.073164200Z"
    }
   },
   "execution_count": 14,
   "outputs": [
    {
     "name": "stdout",
     "output_type": "stream",
     "text": [
      "<class 'pandas.core.frame.DataFrame'>\n",
      "Index: 1748 entries, 0 to 2158\n",
      "Data columns (total 14 columns):\n",
      " #   Column              Non-Null Count  Dtype \n",
      "---  ------              --------------  ----- \n",
      " 0   id                  1748 non-null   object\n",
      " 1   name                1748 non-null   object\n",
      " 2   summary             1748 non-null   object\n",
      " 3   category            1748 non-null   object\n",
      " 4   book_type           1748 non-null   object\n",
      " 5   production_date     1748 non-null   object\n",
      " 6   authors             1748 non-null   object\n",
      " 7   hard_cover_price    1748 non-null   object\n",
      " 8   paper_back_price    1748 non-null   object\n",
      " 9   book_rating         1748 non-null   object\n",
      " 10  total_user_ratings  1748 non-null   object\n",
      " 11  number_of_pages     1748 non-null   object\n",
      " 12  language            1748 non-null   object\n",
      " 13  reviews             1748 non-null   object\n",
      "dtypes: object(14)\n",
      "memory usage: 204.8+ KB\n"
     ]
    }
   ]
  },
  {
   "cell_type": "code",
   "source": [
    "book_data.head()"
   ],
   "metadata": {
    "id": "Ee9Slp7me7NN",
    "ExecuteTime": {
     "end_time": "2024-09-25T17:41:29.306215500Z",
     "start_time": "2024-09-25T17:41:29.129516300Z"
    }
   },
   "execution_count": 15,
   "outputs": [
    {
     "data": {
      "text/plain": "  id                                               name  \\\n0  1  The Moth Presents: A Point of Beauty: True Sto...   \n1  2  Latitude Adjustments: Jimmy Buffett Quotes for...   \n2  3                                             Gnomes   \n3  4  The French Ingredient: Making a Life in Paris ...   \n4  5                           You Never Know: A Memoir   \n\n                                             summary                category  \\\n0                                    NEW YORK TIMES     Literature & Fiction   \n1  Latitude Adjustments: Jimmy Buffett Quotes for...               Self-Help   \n2             An updated and revised edition of the       Arts & Photography   \n3  The inspiring and delicious memoir of an Ameri...  Cookbooks, Food & Wine   \n4                                    ***THE INSTANT    Biographies & Memoirs   \n\n   book_type    production_date                                   authors  \\\n0  Hardcover     March 19, 2024                  The Moth, Mike Birbiglia   \n1  Hardcover    August 30, 2024                              H. R. Gordon   \n2  Hardcover  September 5, 2023  Wil Huygen, Rien Poortvliet, Brian Froud   \n3  Hardcover      April 9, 2024                               Jane Bertch   \n4  Hardcover        May 7, 2024                Tom Selleck, Ellis Henican   \n\n  hard_cover_price paper_back_price book_rating total_user_ratings  \\\n0           $18.60           $13.99         4.6                 95   \n1           $25.00           $16.00         4.0                  2   \n2           $22.49             None         4.9                146   \n3           $19.39            $1.99         4.6                247   \n4           $17.39           $13.99         4.6              2,137   \n\n  number_of_pages   language  \\\n0             400    English   \n1              10  222 pages   \n2             224    English   \n3             304    English   \n4             352    English   \n\n                                             reviews  \n0  This book, taken from the Moth Radio program, ...  \n1  Calling all Parrotheads! 5 fins up for this on...  \n2  The book has fantastic pictures and detail. I ...  \n3  Jane Berth is an engaging writer, charming sto...  \n4  Let's face it.  Everyone enjoys Tom Selleck's ...  ",
      "text/html": "<div>\n<style scoped>\n    .dataframe tbody tr th:only-of-type {\n        vertical-align: middle;\n    }\n\n    .dataframe tbody tr th {\n        vertical-align: top;\n    }\n\n    .dataframe thead th {\n        text-align: right;\n    }\n</style>\n<table border=\"1\" class=\"dataframe\">\n  <thead>\n    <tr style=\"text-align: right;\">\n      <th></th>\n      <th>id</th>\n      <th>name</th>\n      <th>summary</th>\n      <th>category</th>\n      <th>book_type</th>\n      <th>production_date</th>\n      <th>authors</th>\n      <th>hard_cover_price</th>\n      <th>paper_back_price</th>\n      <th>book_rating</th>\n      <th>total_user_ratings</th>\n      <th>number_of_pages</th>\n      <th>language</th>\n      <th>reviews</th>\n    </tr>\n  </thead>\n  <tbody>\n    <tr>\n      <th>0</th>\n      <td>1</td>\n      <td>The Moth Presents: A Point of Beauty: True Sto...</td>\n      <td>NEW YORK TIMES</td>\n      <td>Literature &amp; Fiction</td>\n      <td>Hardcover</td>\n      <td>March 19, 2024</td>\n      <td>The Moth, Mike Birbiglia</td>\n      <td>$18.60</td>\n      <td>$13.99</td>\n      <td>4.6</td>\n      <td>95</td>\n      <td>400</td>\n      <td>English</td>\n      <td>This book, taken from the Moth Radio program, ...</td>\n    </tr>\n    <tr>\n      <th>1</th>\n      <td>2</td>\n      <td>Latitude Adjustments: Jimmy Buffett Quotes for...</td>\n      <td>Latitude Adjustments: Jimmy Buffett Quotes for...</td>\n      <td>Self-Help</td>\n      <td>Hardcover</td>\n      <td>August 30, 2024</td>\n      <td>H. R. Gordon</td>\n      <td>$25.00</td>\n      <td>$16.00</td>\n      <td>4.0</td>\n      <td>2</td>\n      <td>10</td>\n      <td>222 pages</td>\n      <td>Calling all Parrotheads! 5 fins up for this on...</td>\n    </tr>\n    <tr>\n      <th>2</th>\n      <td>3</td>\n      <td>Gnomes</td>\n      <td>An updated and revised edition of the</td>\n      <td>Arts &amp; Photography</td>\n      <td>Hardcover</td>\n      <td>September 5, 2023</td>\n      <td>Wil Huygen, Rien Poortvliet, Brian Froud</td>\n      <td>$22.49</td>\n      <td>None</td>\n      <td>4.9</td>\n      <td>146</td>\n      <td>224</td>\n      <td>English</td>\n      <td>The book has fantastic pictures and detail. I ...</td>\n    </tr>\n    <tr>\n      <th>3</th>\n      <td>4</td>\n      <td>The French Ingredient: Making a Life in Paris ...</td>\n      <td>The inspiring and delicious memoir of an Ameri...</td>\n      <td>Cookbooks, Food &amp; Wine</td>\n      <td>Hardcover</td>\n      <td>April 9, 2024</td>\n      <td>Jane Bertch</td>\n      <td>$19.39</td>\n      <td>$1.99</td>\n      <td>4.6</td>\n      <td>247</td>\n      <td>304</td>\n      <td>English</td>\n      <td>Jane Berth is an engaging writer, charming sto...</td>\n    </tr>\n    <tr>\n      <th>4</th>\n      <td>5</td>\n      <td>You Never Know: A Memoir</td>\n      <td>***THE INSTANT</td>\n      <td>Biographies &amp; Memoirs</td>\n      <td>Hardcover</td>\n      <td>May 7, 2024</td>\n      <td>Tom Selleck, Ellis Henican</td>\n      <td>$17.39</td>\n      <td>$13.99</td>\n      <td>4.6</td>\n      <td>2,137</td>\n      <td>352</td>\n      <td>English</td>\n      <td>Let's face it.  Everyone enjoys Tom Selleck's ...</td>\n    </tr>\n  </tbody>\n</table>\n</div>"
     },
     "execution_count": 15,
     "metadata": {},
     "output_type": "execute_result"
    }
   ]
  },
  {
   "cell_type": "code",
   "source": [
    "# Function to create a descriptive sentence from the specified columns\n",
    "def prepare_embedding_text(row):\n",
    "    return (f\"{row['name']} was written by {row['authors']} \"\n",
    "            f\"and was produced on {row['production_date']}. \"\n",
    "            f\"It falls under the {row['category']} category. \"\n",
    "            f\"The hard cover price is {row['hard_cover_price']}. \"\n",
    "            f\"It has a book rating of {row['book_rating']} based on {row['total_user_ratings']} user ratings \"\n",
    "            f\"and contains {row['number_of_pages']} pages. \"\n",
    "            f\"Reviews: {row['reviews']}\")\n",
    "\n",
    "# Apply the function to create a new column with the formatted text\n",
    "book_data['embedding_text'] = book_data.apply(prepare_embedding_text, axis=1)"
   ],
   "metadata": {
    "id": "zY5RkC7VgbuS",
    "ExecuteTime": {
     "end_time": "2024-09-25T17:41:30.037682800Z",
     "start_time": "2024-09-25T17:41:29.190585100Z"
    }
   },
   "execution_count": 16,
   "outputs": []
  },
  {
   "cell_type": "code",
   "source": [
    "#checking my sentences to be embedded by cohere ai model\n",
    "book_data['embedding_text'][67]\n",
    "\n",
    "#wow, I'm impressed"
   ],
   "metadata": {
    "id": "0_p5nyEvgZ1A",
    "ExecuteTime": {
     "end_time": "2024-09-25T17:41:30.100907200Z",
     "start_time": "2024-09-25T17:41:29.529016400Z"
    }
   },
   "execution_count": 17,
   "outputs": [
    {
     "data": {
      "text/plain": "\"We Solve Murders: A Novel was written by Richard Osman and was produced on September 17, 2024. It falls under the Mystery, Thriller & Suspense category. The hard cover price is $26.29. It has a book rating of 4.5 based on 1,147 user ratings and contains 400 pages. Reviews: If you love The Thursday Murder Club you will love this book.  Lots of really, really great wit.  As I am not British I am sure a few quips went over my head, but there are so many, it just didn’t matter. Great murder mystery, great characters, wonderful human insight and an all around fun read.  I read a book a day - well written prose and a compelling story are hard to find.  And, it makes you laugh and keeps you on your toes.  Please write ten more quickly - as Rosie would say “chop, chop”, hmmm, that would be a great name of a book., Fans of the Thursday Murder Club will thoroughly enjoy this new series, which is only very nearly almost not quite as perfect as TMC is. Another round of Steve and Amy and Rosie might make them as beloved as Elizabeth and Joyce and Ibrahim and Ron., It was lovely to meet the new people in Richard Osman's life and a joy to read a superbly crafted story. It really does not get much better than this. Highly recommended for people that enjoy a character driven and creative story. Impatiently awaiting the next one., Typical Osman book in that it creeps up on you as you read it. The characters grow on you and you become invested in the story. Next thing you know, you’re glued to your book, trying to put the puzzle pieces together before the characters do. This is going to be a fun series to read and I’m already looking forward to the next installment., A mystery set in Axley, England, South Carolina, St. Lucia, Dublin, Dubai, and New York., Richard Osman, author of “The Thursday Murder Club” mysteries, is back with a new series. I wanted to like this as much, but while it has its moments, “We Solve Murders falls short., Widower Steve Wheeler, a retired detective, enjoys his routine in rural England. His daughter-in-law Amy, a high-end bodyguard, is the one with the exciting job. When Amy realizes she is being framed for three murders, she gets Steve to help her., Richard Osman is skilled at characterization and “We solve Murders” is filled with intriguing characters, particularly Steve Wheeler and Rosie D’Antonio (the best-selling author Amy Wheeler is assigned to protect.) I’m not happy with the characterization of Amy. And, I found the plot contrived., Interesting plots good characters. Not at all believable, but once the reader realizes that, it's a good story . Thanks, Mr. Osman, Sorry, but I just didn't fall in love with the dynamics of Steve and Amy. Maybe they were just a bit too well adjusted.  The Thursday gang really did have their faults.  Elizabeth was quite removed from daily humdrum, belonging too completely to M16 work. Joyce really was too chatty.  Ron was quite the blowhard. Ibraham balanced precariously between vanity and uncertainty.  And all set in the comforting world of their retirement community and small town.  Steve and Amy and Rosie are just all over the place, almost caricatures instead of characters. The plot is quite ornate. Perhaps too ornate, perhaps the characters are simply lost in the action. I should add that I don't usually read murder mysteries or action adventure.  Thursday Murder Club books were an exception for me., Osman manages once again to be clever, moving and laugh out loud funny!  And how lucky are we to have TWO series, now?  I, for one, cannot wait to see what comes next., Ayant aimé les quatre tomes du  Thursday murder club je m'attendais à retrouver la même fantaisie dans We solve murders .Hélas, non seulement le style est différent, mais le récit est totalement incohérent. Quant aux personnages ,on ne retrouve pas le charme farfelu des héros de la maison de repos ., I was fully prepared not to like this book. Nothing to do with the book itself but because, as an avid reader, my heart sinks when authors mention the characters travel round the world. I've given up on previous favourite writers because they can spend 20 pages describing the scenery from the airport. But because Mr Osman is my joint favourite author (with Harlan Coban) and because I love The Thursday Murder Club books I thought I'd give it a go. So glad I did. This book is just as good as the Thursdays. It works because once again Mr O gives us well rounded characters to fall in love with and all of these are no exception. The writing is also lovely and concise (definitely no 20 pages of scenery). It also had me guessing to the end. Absolutely brilliant!, And where does Richard Osman get these amazing ideas from. Great b characters and a good twisty tale. Can't wait to hear more about the new business and what happens when things go wonky next time., Like many others I really enjoyed the Thursday Murder Club series as Richard Osman writes in a style I get lost in., With this new series it keeps the style but brings in new characters, lots of locations while keeping the humour and mystery I've grown to love., Not sure if it's a criticism or not but the book was finished far too soon - although that might be because I couldn't stop reading, I even slipped my cycling commute two.days in a row so I could read on the train., Highly recommend., Another great first book in another series by Richard osman … i loved the characters in this book will look forward to reading more of the gang in coming books.\""
     },
     "execution_count": 17,
     "metadata": {},
     "output_type": "execute_result"
    }
   ]
  },
  {
   "cell_type": "code",
   "source": [
    "# Converting the embedding_text Series to a list\n",
    "texts_to_embed = book_data['embedding_text'].tolist()"
   ],
   "metadata": {
    "id": "tT31hI2snfbu",
    "ExecuteTime": {
     "end_time": "2024-09-25T17:41:30.101050200Z",
     "start_time": "2024-09-25T17:41:29.547733400Z"
    }
   },
   "execution_count": 18,
   "outputs": []
  },
  {
   "cell_type": "code",
   "source": [
    "#Embedding my sentences\n",
    "embeds = co.embed(\n",
    "    texts= texts_to_embed,\n",
    "    model='embed-multilingual-v3.0',\n",
    "    input_type='search_document'\n",
    ").embeddings\n"
   ],
   "metadata": {
    "id": "CFASqcMSjZ8J",
    "ExecuteTime": {
     "end_time": "2024-09-25T17:42:01.379647800Z",
     "start_time": "2024-09-25T17:41:29.586365700Z"
    }
   },
   "execution_count": 19,
   "outputs": []
  },
  {
   "cell_type": "code",
   "source": [
    "#shape of the newly embedded texts\n",
    "shape = np.array(embeds).shape\n",
    "print(shape)"
   ],
   "metadata": {
    "id": "XAJk3rvim7uG",
    "ExecuteTime": {
     "end_time": "2024-09-25T17:42:01.632155800Z",
     "start_time": "2024-09-25T17:42:01.379647800Z"
    }
   },
   "execution_count": 20,
   "outputs": [
    {
     "name": "stdout",
     "output_type": "stream",
     "text": [
      "(1748, 1024)\n"
     ]
    }
   ]
  },
  {
   "cell_type": "code",
   "source": [
    "# initializing connection to pinecone\n",
    "pc = Pinecone(api_key='e9fd2f61-5bf0-42e2-9011-9027c377d951')\n",
    "\n",
    "index_name = 'cohere-pinecone-amazon-books'\n",
    "\n",
    "# if the index does not exist, we create it\n",
    "if not pc.has_index(index_name):\n",
    "    pc.create_index(\n",
    "        name=index_name,\n",
    "        dimension=shape[1],\n",
    "        metric=\"cosine\",\n",
    "        spec=ServerlessSpec(\n",
    "            cloud='aws',\n",
    "            region='us-east-1'\n",
    "        )\n",
    "    )\n",
    "\n",
    "# connect to index\n",
    "index = pc.Index(index_name)"
   ],
   "metadata": {
    "id": "V8PWTm12nOe-",
    "ExecuteTime": {
     "end_time": "2024-09-25T17:47:35.456035700Z",
     "start_time": "2024-09-25T17:47:33.878348Z"
    }
   },
   "execution_count": 24,
   "outputs": []
  },
  {
   "cell_type": "code",
   "source": [
    "# Pinecone expects us to provide a list of tuples in the format (id, vector, metadata)\n",
    "batch_size = 128\n",
    "\n",
    "ids = [str(i) for i in range(shape[0])]\n",
    "# create list of metadata dictionaries\n",
    "meta = [{'text': text} for text in texts_to_embed]\n",
    "\n",
    "# create list of (id, vector, metadata) tuples to be upserted\n",
    "to_upsert = list(zip(ids, embeds, meta))\n",
    "\n",
    "for i in range(0, shape[0], batch_size):\n",
    "    i_end = min(i+batch_size, shape[0])\n",
    "    index.upsert(vectors=to_upsert[i:i_end])\n",
    "\n",
    "# let's view the index statistics\n",
    "print(index.describe_index_stats())"
   ],
   "metadata": {
    "id": "UV5leXrtovTM",
    "ExecuteTime": {
     "end_time": "2024-09-25T17:52:17.347130900Z",
     "start_time": "2024-09-25T17:47:38.877505200Z"
    }
   },
   "execution_count": 25,
   "outputs": [
    {
     "name": "stdout",
     "output_type": "stream",
     "text": [
      "{'dimension': 1024,\n",
      " 'index_fullness': 0.0,\n",
      " 'namespaces': {'': {'vector_count': 1748}},\n",
      " 'total_vector_count': 1748}\n"
     ]
    }
   ]
  },
  {
   "cell_type": "code",
   "source": [
    "query = \"Do you have book that talks about cooking\"\n",
    "\n",
    "# create the query embedding\n",
    "xq = co.embed(\n",
    "    texts=[query],\n",
    "    model='embed-multilingual-v3.0',\n",
    "    input_type='search_query'\n",
    ").embeddings\n",
    "\n",
    "print(np.array(xq).shape)\n",
    "\n",
    "# query, returning the top 5 most similar results\n",
    "res = index.query(vector=xq, top_k=10, include_metadata=True)"
   ],
   "metadata": {
    "id": "By_heHwN70pr",
    "ExecuteTime": {
     "end_time": "2024-09-25T17:54:05.297813Z",
     "start_time": "2024-09-25T17:53:58.650465900Z"
    }
   },
   "execution_count": 26,
   "outputs": [
    {
     "name": "stdout",
     "output_type": "stream",
     "text": [
      "(1, 1024)\n"
     ]
    }
   ]
  },
  {
   "cell_type": "code",
   "source": [
    "book_knowledge = []\n",
    "for match in res['matches']:\n",
    "    print(f\"{match['score']:.2f}: {match['metadata']['text']}\")\n",
    "    book_knowledge.append(match['metadata']['text'])"
   ],
   "metadata": {
    "id": "KEKNxuyUCtgr",
    "ExecuteTime": {
     "end_time": "2024-09-25T17:54:05.328855600Z",
     "start_time": "2024-09-25T17:54:05.309848Z"
    }
   },
   "execution_count": 27,
   "outputs": [
    {
     "name": "stdout",
     "output_type": "stream",
     "text": [
      "0.63: Gordon Ramsay's Home Cooking: Everything You Need to Know to Make Fabulous Food was written by Gordon Ramsay and was produced on April 9, 2013. It falls under the Cookbooks, Food & Wine category. The hard cover price is $17.69. It has a book rating of 4.8 based on 5,748 user ratings and contains 320 pages. Reviews: These recipes are very simple, elegant, and delicious! I love the explanation for a good set of knives and kitchen equipment you actually need and not all the fluff they try to sell you. I look forward to making more recipes from here. Great edition to my slim cookbook collection., I didn't know until after I bought this book and read other reviews that this cookbook has essentially a companion cooking tv series that aired in the UK under the same name as the UK version of this cookbook--Ultimate Cookery Course. He really breaks everything down so easy, so understandable so that you feel like I can really take on these recipes and his food and do it justice., Having been an avid GR fan for years now, and having indulged in eating at two of his restaurants, I couldn't pass up the opportunity to try to challenge myself to make some of his delicious food. I am just a homecook with no prior knowledge or formal training in the kitchen. I have never worked in the food industry in any capacity unless a 1-week stint at Starbucks counts. In fact, I didn't even start cooking much of anything harder than ramen and scrambled eggs until my mid-20's (and I'm on the verge of turning 30 now). The fact that I've been able to learn so much and elevate my own abilities simply by reading and following many of the tips Gordon's included in this book and on the tv series has been kind of a gamechanger for me. I used to eat out TONS, but there's really little need to do so (except for the occasional quick bite or the indulgent dining experience) when I can simply throw something together that's super flavorful and intensely yummy just by following Gordon's instructions., I've only tried a couple of the recipes out of this book so far, and though I have to make some substitutions here and there if I can't find a certain ingredient (and I live in an area where many culturally diverse foods would be fairly easy to track down, given the nature of ultra-picky/health-conscious/foodie Californian tastes). Each recipe has been a HIT! The boyfriend has loved each recipe, and I've basically been craving more of Gordon's Chile Beef Lettuce Wraps since I've had them. I've also been itching to make variations on his souffle..., The point is--even if you don't consider yourself a MasterChef, this book is easy enough to follow. There's definitely a marked Middle Eastern/Indian and Asian influence throughout the book, and a whole section on cooking with spices/chilies, but be adventurous! Try them all! I probably will., This book is the printed American version of Ramsay's BBC 10 part series: Gordon Ramsay's Ultimate Cookery Course.  Book lies flat.  Paper quality first class and cooking and equipment tips outstanding.  Great recipes too.  This man knows how to cook and how to blend flavors.  Glad I got it., This cookbook is heavy and sturdy and stands up nicely on a cookbook stand. The pages are thick and feels like a high quality book. I love how Gordon describes his recipes and he also describes tips on what type of basic cookware every home chef needs. He gives great advice on kitchen essentials outside of the recipes and the book is easy to read. Buy this book., Our kids became obsessed with Gordon Ramsay when our family had Master Chef on in the background often. But the kids were reluctant to actually cook until we found this cookbook and helped them make \"Gordon's food.\" Some of the recipes are more complicated, but there's a ton in here that's easy for kids to do with a little help. Plus it got them trying new things!, This book is great.  I was looking for a cooking book for my kitchen and this is great., My picky family is enjoying these recipes. In addition to the  recipes for good food, the average home cook gets to learn some expert techniques that make things easy yet tasty. Very highly recommended., Was a great gift to hand out., My neice refers to this cookbook every day. She says it's packed with wonderful easy to follow recipes and tips. It's got beautiful photos and paper., Compré este libro como un regalo para mi hijo, y le gustó muchísimo, ya que le gusta cocinar rico y ha hecho varias recetas de videos de Gordon Ramsey., she loves it, Amazing book!, not something that I want- not good recipe\n",
      "0.61: This Is a Book About Noodles was written by Brendan Pang and was produced on December 13, 2022. It falls under the Cookbooks, Food & Wine category. The hard cover price is $15.60. It has a book rating of 4.7 based on 38 user ratings and contains 168 pages. Reviews: I love this cookbook! You learn to make different types of noodles and what neat Asian dishes to make with them., Some of the ingredients called for are hard to find, or non-existant in local markets. They can also be very expensive., Trying to find a noodle and master the perfect noodle for any recipe is key. All of the options and the simplicity for any home chef gives us hope for noodle mastery., Excellent book that I recommendation for noodles lovers like myself., Fantastic easy to make recipes\n",
      "0.60: The Condiment Book: A Saucy Guide to Unlocking Maximum Flavor with Minimal Effort was written by Claire Dinhut and was produced on May 20, 2025. It falls under the Cookbooks, Food & Wine category. The hard cover price is $34.99. It has a book rating of 0.0 based on 0 user ratings and contains 224 pages. Reviews: \n",
      "0.59: Why I Cook was written by Tom Colicchio, Joshua David Stein and was produced on October 8, 2024. It falls under the Cookbooks, Food & Wine category. The hard cover price is $32.00. It has a book rating of 0.0 based on 0 user ratings and contains 320 pages. Reviews: \n",
      "0.59: Assassin's Creed: The Culinary Codex was written by Thibaud Villanova and was produced on September 6, 2022. It falls under the Humor & Entertainment category. The hard cover price is $17.71. It has a book rating of 4.8 based on 173 user ratings and contains 144 pages. Reviews: This book has a lot of good recipes to try including food drinks and desserts the book is of good quality and the printing is very clear, My partner and I have started cooking together and love the AC games and this book is so much fun! The recipes are all unique to the time period and place where the games take place and they look delicious! Good quality book and paper too, Great recipes and beautiful illustration, Great cookbook that focuses on quality and theme. Good recipes and easy to cook. My only gripe is the gumbo recipe, they don't include how to make a roux for thr base. Other than that it's presented well for assassin creed theme., The recipe within this book is easy to make and it’s like some of the food that you think of never making, definitely worth the time, if your a fan of the characters from the game., I really enjoyed how the book is written in sections by Assassins. It goes from Egypt to London. It has whole menu plans plus I enjoy the different types of teas., Great cookbook, amazingly put together, looks even better in person. All the recepies are straight from the historocal time period and location. Minus one star because most of the recepies contain ingredients that are either very hard to find or require certain cooking stuff that most people wouldnt already have. That isnt the fault of the book at all. I plan to make all of these one day itll problably just take a while to have access to all of the ingredients/tools, I gave this a generous three stars, because I flipped through the book and it looked amazing.  I bought this for a secret Santa exchange at work, for someone who plays the games.  The book looked great and I was very disappointed that it was damaged and I couldn't use it.  It wasn't boxed, only thrown into a bubble wrap envelope for shipping.  Christmas is not a good time for this kind of carelessness., Came on time and had great quality. Has awesome recipes and has dietary restrictions and substitutions added to the recipes so everyone can try it out. I recommend it to anyone who loves Assassin's Creed themed food., Tho cooking book is brilliant as the recipes as well. Just a bit disappointed because they didn't include recipes for AC Odyssey and Valhalla., I love the overall theme of the book, how different cuisines and historical foods are depicted via each protagonist! Its a visually pleasing well written cookbook!! My only issue is the food is very regimented, majority of it is things you wouldnt eat all the time, there isnt anything for ‘everyday cooking’ also theres not enough drinks, all the drinks seem to be teas which is great for one recipe, but theres about three tea recipes, a mixture of different drinks wouldve been nice rather than the only drinks being teas., My other issue is theres barely any recipes in it! We need more!, Now, I haven't sat down and read it properly but had a quick flick through, I'd say it's interesting and has inspired me to amend some recipes to meet modern day plates., I tried couple of the recipes, and it was all delicious., Down side is that some of the recipes has wrong or duplicate ingredients not mentioning on the description., For example, one recipe requires baking powder but on the description it says add yeast!., I know that this is not professional cook book, and it doesn't explain in a detail. So, if someone has no knowledge in baking or cooking, it might be little confusing.\n",
      "0.59: Feeding Hannibal: A Connoisseur's Cookbook was written by Janice Poon and was produced on October 18,  2016. It falls under the Reference category. The hard cover price is $21.14. It has a book rating of 4.9 based on 1,914 user ratings and contains 240 pages. Reviews: I really hate cooking. I would rather do dishes, do yard work, clean the bathroom...pretty much anything instead of cooking. With that said, being the Fannibal that I am, I had to order this book, and I am so glad I did., While it is unlikely I will make many of the dishes in this book, simply because I hate making food (I would practically live off cereal if it were up to me; Hannibal would be so disappointed), there is much more to this book than just recipes., The pictures in the book are gorgeous and vibrant, which is one of the first things you notice. There are also amusing anecdotes and interesting information sprinkled throughout the book. And, of course, what would be a book about the show Hannibal, without cannibal puns?, With all of that said, for those that actually enjoy cooking, the recipes are explained in great detail and are easy to follow. There are tips and tricks, for those that are new in the kitchen, at the front of the book. Additionally, there are some vegetarian options for some of the recipes as well. The recipes range from seemingly easy (I might actually try the sanguinaccio dolce aka blood chocolate) to some that are more challenging, for the more experienced canni...er...chef. One of the small details that I like about the book is that it tells you which episode the recipes were featured in., One last note about the book...as the disclaimer on the back states, it \"is intended for Fannibals and foodies, not cannibals. Please don't eat your friends!\", Extremely well written & beautifully sculpted with stunning photographs, easy to read directions & diagrams. The book takes you into Hannibal’s fridge, his pantry, his kitchen and allows you to subconsciously work side by side on the dish or dishes at hand with quite the flare and subtle amusement that comes with “knowing” our character and how he feels about the food we are preparing, the culture it originated from and the passion that envelops you as your whisked away into Dr. Lector’s “Mind Palace”. “Thank you Amazon and it’s employees & affiliates for having this beautiful treasure on your online catalogue and at a reasonable price nonetheless. My latest kitchen accessory and table centerpiece that immediately starts  many conversations with intrigue and awe, Excellent and beautiful book with great recipes.  Makes a terrific gift for the Hannibal lover., An exquisite book full of delicate, high end, and delicious treats.  This is not macaroni and cheese dressed up for a show, this is sea urchin and shattered tea cups for those who delight with bloody and insatiable jokes and palates., While quite a few of the recipes are rather high end, and require sometimes difficult and expensive ingredients, it is simply to be expected (who amongst us can casually get and cook a suckling pig, after all?).  But, on the other hand, quite a few of the recipes, most of them I would say if you have a good butcher in the area, while extravagant and most likely not fit for a quick meal after work, are easy to whip together for a lovely weekend dinner party.  There are even a few vegetarian recipes for those of us who know people who prefer a lighter affair., The book is not just all recipes.  No, no it is not.  There are wonderful illustrations, and quite a bit of information on how to present the delights to perfection as well.  Shattered teacups and pinwheel cookie people and all., If you loved the show, this book is for you.  It is, truly, feeding Hannibal., It is a BEAUTIFUL Concoction! I would recommend it for anyone who is delving into food design and culinary artistry., This is a beautifully made cookbook with unique recipes and fun exerpts. A must for Hannibal fans!, This is a brilliant cookbook, but it's not for everyone.  Some might be turned off by the cannibalistic inspiration for these dishes, while many will be turned off by the exotic ingredients used in several of the dishes.  However, I see two overlapping audiences who will find a lot of value here.  The first consists of those who are devoted fans of the TV show Hannibal and want some additional insight into his culinary designs.  The second are those with a sophisticated and somewhat adventurous palate who are looking for some artful if unorthodox meals., I find myself in both categories.  I'm the kind of person who already keeps his copy of Gray's Anatomy on the same shelf as his cookbooks, so I was more than intrigued by the promise of this book, and I wasn't disappointed.  That said, you should be aware that these are not just whimsical ways to plate mundane dishes (though there are a few of those included).  The majority of the recipes in this book include exotic ingredients that might not be to everyone's liking and might be difficult to source depending on one's location.  It doesn't take long to see just how adventurous these recipes will get.  As early as the fourth recipe, the ingredients list includes one lamb brain and 1 lamb testicle., Substitutions abound, however, so even if most people mightn't be interested in most of these recipes, I think almost everyone will find at least some dishes to try.  And I'm not going to sit here and claim that I have any interest in every single recipe in the book.  I may be willing to experiment in the kitchen, but I also know the limits of my own tastes., People who want some insight into the TV show will also find a lot of value.  Of course this is a cookbook, not a \"making of\" documentary, but there are numerous little anecdotes about the filming interspersed throughout the book, giving the reader a brief if vivid picture of what it was like for the filmmakers (the author in particular) to design Dr. Lecter's dinners., A brief early section of the book provides some insight into the techniques you'll need to master and the equipment you'll require if you want to attempt these dishes.  I place emphasis, however, on the word \"brief.\"  While a large number of the recipes are not particularly difficult, this book does assume the reader knows his or her way around the kitchen.  If you're just beginning to cook, I wouldn't presume to warn you away from this book, but I would recommend you supplement it with a more \"beginner-friendly\" volume like Mark Bittman's How to Cook Everything or the always-popular Joy of Cooking., I do recommend reading the book straight through before deciding which dishes you want to sample.  For one thing, unlike many cookbooks, it actually makes for an entertaining read even for those who never want to pick up a chef's knife at all.  More importantly, though, it wouldn't do to simply prepare just one of these dishes.  These dishes are better viewed as the components of a larger menu (perhaps for a dinner party), and you'll want to survey the entire selection of offerings before planning your menu., As much as I enjoyed the book, I do have one complaint and one wish.  My wish is that the book had included suggestions for wine pairings with each dish.  Though there is a small selection of cocktail recipes near the back of the book (some of which are quite appealing indeed!), it's my opinion that each course should be consciously paired with the perfect wine, and it would have been helpful had the book included some insights.  My complaint is that, though the book is beautifully illustrated with a mixture of photographs of the food, sketches of the food, and photographs from the set, I feel like a photograph should have been included for each and every dish.  Presentation is always important, but in these recipes, it's arguably of paramount importance, and some additional visual guidance would have been quite helpful., Nevertheless, while I didn't find it a perfect book, I do highly recommend it.  It's a fun read, and I think all you chefs out there will enjoy recreating some of these dishes., I love it. I haven't read all of it but I like it. While it is a cookbook, there are plenty of notes and pages with background information on the show itself. I don't think I'll ever make anything using the book, but I'm still happy to have it., Me encantó el libro, es mas grande de lo que imaginé. Llegó en excelente estado a pesar del embalaje que solo era una bolsa con burbuja. El contenido en cuanto a imágenes es ¡wow! Y las recetas pues algo exóticas pero les faltan mas detalles para la elaboración de cada platillo., Beautiful book and SOOO many recipes! The sketches and photos are gorgeous. The recipes are quite elaborate but I’ll be excited to try my hand at a few of them this fall!, livro lindo, lindo, lindo. cheio de fotos e ilustrações. pralém das receitas, ela descreve alguns processos de criação, como algumas receitas foram parar na série e situações que rolaram em set (sim, mads mikkelsen é perfeito). também tem várias receitas com duas versões, com carne e sem carne!!!!!, The recipes are good and easy to follow and I love the nudges and references to the show!, dommage pour la langue\n",
      "0.58: Cooking and the Crown: Royal Recipes from Queen Victoria to King Charles III [A Cookbook] was written by Tom Parker Bowles and was produced on October 22, 2024. It falls under the Cookbooks, Food & Wine category. The hard cover price is $35.00. It has a book rating of 0.0 based on 0 user ratings and contains 240 pages. Reviews: \n",
      "0.58: My Mexican Kitchen: 100 Recipes Rich with Tradition, Flavor, and Spice: A Cookbook was written by Eva Longoria and was produced on October 29, 2024. It falls under the Cookbooks, Food & Wine category. The hard cover price is $30.00. It has a book rating of 0.0 based on 0 user ratings and contains 256 pages. Reviews: \n",
      "0.57: The Elder Scrolls: The Official Cookbook Vol. 2 (2) was written by Victoria Rosenthal, Erin Kwong and was produced on September 17, 2024. It falls under the Computers & Technology category. The hard cover price is $31.49. It has a book rating of 4.1 based on 6 user ratings and contains 208 pages. Reviews: It is so different from the first official Elder Scrolls cookbook, but there are some amazing-looking recipes in here. I can already tell that some ingredients will be difficult to find- especially if you don't live in big cities. But finding substitutions should be easy enough. Otherwise, it is a great book that immerses you in the Elder Scrolls world of cooking!, I now own both Cookbooks and they will continue to be a go-to resource for fun Elder Scrolls-themed meals.  Volume 2 is definitely a step up from the original.  1) the treatments on this book are very nice - thick paper and the cover is a super-cool map of Tamriel.  2) There are photos for every recipe.  Great touch!  3) This isn't just a cookbook ... there's fun and entertaining lore that ties into each recipe.  4) There's a \"difficulty index\", a full list of Dietary Considerations and a measurement conversion chart in the back of the book.  And yes, there's a Sweetroll recipe!  I still love the original but this is a step up and a must-have for Elder Scrolls fans., Tl;dr: overly complicated recipes named after in game items. Just get the first volume., I pre-ordered this because I loved the first volume so much. The first volume really captured the feel of simplistic, cottage cooking. It felt like the recipes were plucked from Skyrim.  This second volume fails to elicit any of that. The recipes rely on specialty ingredients to make them seem exotic. While there are some I will certainly try, most don't sound appetizing especially when considering ingredients.  Additionally I feel like requiring food processors and other equipment takes away the feel of being in a magical world., FYI, I also purchased the Fallout cook book that was by the same author. It was very similar but at least Fallout has tech so it seemed more natural., This book doesn't feel like Tamriel at all. It doesn't even feel like something from a fantasy setting. It's just pretentious., Love it! I own the first book as well and really enjoyed it, but I think this one is even better. The recipes all look delicious, and I plan to cook a feast for my game group this weekend. Last night I made the Rajhin’s Sugar Claws. They were fairly straightforward but came out delicious. I can’t wait to try the Kollopi meatballs as well. My favorite thing though is reading through all the paragraphs at the start of the recipes and the sketches included. It really feels like an in-game book and I love the new character who learned from The Gourmet. So much fun to feel like I’m in the world when cooking!, I loved the first cookbook, so I was really excited when I found out there was a second one. And WOW. This one blew away my expectations. It's got beautiful illustrations, the recipes look delicious, and the lore. The lore! The author is a trainee under The Gourmet from Skyrim and his voice is great. It feels is a travelogue of all of the Elder Scrolls games, and I think the authors did an incredible job weaving in the lore. I'm going to make the Fargrave Sweetrolls immediately. (Also... the Corrupting Bloody Mara? A+++.)\n",
      "0.57: RuneScape: The Official Cookbook (Gaming) was written by Sandra Rosner, Jarrett Melendez and was produced on April 16, 2024. It falls under the Reference category. The hard cover price is $17.79. It has a book rating of 4.8 based on 158 user ratings and contains 144 pages. Reviews: This cookbook is such a great idea. Any long-time RuneScape player will be familiar with the dishes featured in this book., I like how most all the dishes in here are something realistic you can make any time (I live in an area where not all the ingredients are widely available)., Another great feature in this book is the conversion tables in the last pages, RuneScape has a worldwide following and I’m happy they made life easier for US players and cooks (even if our measurements are the wrong way)., If you’re a RuneScape fan, someone who loves cooking, or both; definitely buy this book and get 99 cooking IRL., So, Runescape was a part of my childhood. I started in September of 2006, but I am still on the same account and character. The recipes I have recreated are top-notch. I enjoy the presentation and how the book describes a step, much like in the game. I appreciate the Fahrenheit conversion from Celsius included!, If you are like me and want something for an easy-to-follow recipe book, I would say this is it! I am going through the different recipes, and some will be waiting until this fall/winter when the colder season arrives to make them., Great writing, matches aesthetic of RuneScape, and the recipes are good., Many good recipes for IRL including many items I never use in game. Nice book, well written., This book is full of fun ways to cook all our favorite foods and beverages from the game we grew up playing. 10/10 would recommend this to all the other gamers out there., Book arrived in great condition with some very minor defects. Inside the book has list of recipes based off the game itself. The pictures look amazing. Each recipe has a little lore story behind it. I can't wait to try them out.  If you're looking to buy this book to just get the Chef's outfit, you also get a nice postcard which contains a in-game code on the back for the outfit itself.  In case if you didn't find it, you can find this card which has a picture of the Chef's outfits taped on the very last page cover of the book itself (Go to the backcover and turn it to the inside backcover of the book)., Keep in mind that this code is only for RuneScape and not for Old School RuneScape. Also as stated on the card, the code is only active until October 31, 2027 so be sure to redeem it by then., This is a must have for any RuneScape fan, and especially for those who like to cook! Some of the recipes are not for those who don’t cook often! The pictures are beautiful and the details will fill the heart of any real fan! The book itself is sturdy and well made and I am obsessed with the achievements! The dietary considerations age is a great addition and it’s very clean and easy to understand and added points for it being in alphabetical order!, I love my book. Ive been a massive fan since 2001 playing RS. Its been apart of me, now i get to taste the in game food. :) PS: you get a nice cooking outfit when you purchase this cooking book., I've been playing RuneScape since I was a child - I've been on this game since as early as 2004 (don't tell Jagex, I was under 13, oops!) I can concretely say that this game has shaped me as a person, present through all stages of development and life cycles so far and hopefully it'll continue to be. I've spent 20 years now playing the quests, interacting with the characters, and most importantly EATING THE FOOD! Imperative to survival in combat!, The writing of characters, and the way this book treats the reader like it's another adventure and another quest, a whole list of achievements and flavor commentary by the chef NPC, even the cheeky little \"enchanted ingredient\" that we obviously can't add, it all leads to truly feeling like something brought out of a RuneScape quest. I haven't yet had time to make any of the meals and items in this book (it just arrived an hour ago), but I've been sat here reading everything, and I can say that it holds all the most important, most memorable, and most influential food items from the game - even as far as telling us how to make the real-life equivalent of Asgarnian Ale, a staple beer in the game. I was laughing and smiling and taking notes on what to buy on my next outing just so I could try some Shrimps as the first-ever food the player cooks in RuneScape. What a gorgeous work of art, thank you Jarrett Melendez and Sandra Rosner!, Hübsch gestaltetes und sehr detailliertes Kochbuch mit unzähligen Referenzen aus dem Spiel. Bilder sehr hochwertig und hübsch, Rezepte gut gewählt und schöne Auswahl., i would recommend this book if you want to try cooking your favorite treats from runescape as i have made everything from the book so far, A cookbook with multiple recipes takes a RuneScapesque spin that fits any player. Definitely more content than what RS3 players would have received for the same membership costs in-game. I really like it!, Love this book a lot! Very sturdy and cute recipes\n"
     ]
    }
   ]
  },
  {
   "cell_type": "code",
   "source": [
    "#Integrating my chatbot using already pretrained model from Cohere AI\n",
    "prompt = f\"\"\"\n",
    "You're a book recommendation assistant, and always open to welcome users when they really don't know what you are and help in putting them through. Your book knowledge encompasses the following books genre\n",
    "'Literature & Fiction', 'Self-Help', 'Arts & Photography','Cookbooks, Food & Wine', 'Biographies & Memoirs','Humor & Entertainment', 'Reference', 'Politics & Social Sciences',\n",
    "'History', \"Children's Books\", 'Crafts, Hobbies & Home','Computers & Technology', 'Engineering & Transportation','LGBTQ+ Books', 'Mystery, Thriller & Suspense', 'Medical Books',\n",
    "'Science Fiction & Fantasy', 'Health, Fitness & Dieting','Science & Math', 'Business & Money', 'Christian Books & Bibles','Religion & Spirituality', 'Romance', 'Teen & Young Adult',\n",
    "'Travel', 'Comics & Graphic Novels', 'Sports & Outdoors', 'Law','Parenting & Relationships'\n",
    "\n",
    "## Instructions\n",
    "Below is a list of book summaries and reviews related to the user's query. Each entry includes information such as book name, authors, production date, category, hard cover price, book rating, user ratings, number of pages, and a selection of user reviews.\n",
    "\n",
    "The user's query is: \"{query}\"\n",
    "\n",
    "Please provide a detailed response to the user's query based on the given information. The response should be engaging and informative, synthesizing the key points from the book summaries and reviews. Use natural language and feel free to add helpful recommendations or insights.\n",
    "\n",
    "## Book Summaries and Reviews:\n",
    "{book_knowledge}\n",
    "\n",
    "## Approach to satisfying Users\n",
    "1. Greet them nicely, and introduce yourself as 'book recommendations assistant' if the query does not address the need for a book recommendation or suggestion\n",
    "2. scan through the queries thoughroughly and acknowledge the users demands\n",
    "3. based on the insights from the book knowledge, try as much as possible to give the user yuour best take and address the users query\n",
    "4. In a case whereby the users query is not contained in the book knowledge, or genre of books you are conversant with, you can briefly give the user a tour on what you offer and suggest something nice or close to users request\n",
    "5. don't be forward to give a book reccomendation if you are not asked in the query, an introduction of what you can offer is enough please and politely ask what they will lie to get, you can briefly walk them through list of genres you cover.\n",
    "6. For a query that addresses a need for a book, it's obvious such user alreadyknows what you can offer, so you can just acknowledge the users query and then skip introducing you are a book recommendation assistant\n",
    "\n",
    "## Example Output\n",
    "- High-level response: <summary based on the query>\n",
    "  * <insight 1>\n",
    "  * <insight 2>\n",
    "  * <insight 3>\n",
    "\"\"\"\n",
    "\n",
    "response = co.chat(\n",
    "  model=\"command-r-plus-08-2024\",\n",
    "  message= prompt\n",
    ")\n",
    "\n",
    "print(response.text)"
   ],
   "metadata": {
    "id": "ZQcH-V7XCyqV",
    "ExecuteTime": {
     "end_time": "2024-09-25T17:54:21.511416700Z",
     "start_time": "2024-09-25T17:54:10.263219500Z"
    }
   },
   "execution_count": 28,
   "outputs": [
    {
     "name": "stdout",
     "output_type": "stream",
     "text": [
      "- High-level response: I have several books that focus on cooking and culinary adventures, offering a delightful blend of recipes, cultural insights, and engaging narratives.\n",
      "\n",
      "  * **Gordon Ramsay's Home Cooking: Everything You Need to Know to Make Fabulous Food:** This book is a comprehensive guide to cooking by celebrity chef Gordon Ramsay. It includes simple and elegant recipes, tips on essential kitchen equipment, and personal anecdotes. With a 4.8 rating, it's a popular choice for home cooks looking to elevate their skills.\n",
      "  * **This Is a Book About Noodles:** Brendan Pang's cookbook explores the art of noodle-making and various Asian dishes. It's a great resource for noodle enthusiasts, offering a 4.7 rating and user-friendly recipes.\n",
      "  * **Feeding Hannibal: A Connoisseur's Cookbook:** This unique cookbook is inspired by the TV show Hannibal, featuring exquisite recipes and culinary artistry. It includes beautiful illustrations, anecdotes, and a 4.9 rating, making it a must-have for fans of the show and adventurous cooks.\n",
      "  * **Assassin's Creed: The Culinary Codex:** While not strictly a cookbook, this book offers a fun twist by presenting recipes inspired by the Assassin's Creed video games. It includes historical recipes, beautiful illustrations, and a 4.8 rating, appealing to fans of the franchise and those interested in themed cooking.\n",
      "  * **RuneScape: The Official Cookbook:** Catering to fans of the RuneScape game, this cookbook brings in-game dishes to life with a variety of recipes and engaging narratives. It has a 4.8 rating and is a fun way to connect with the game's world through cooking.\n",
      "\n",
      "These books offer a diverse range of culinary experiences, from celebrity chef guidance to themed cooking adventures. Whether you're a novice cook or a seasoned foodie, there's something for everyone to explore and enjoy in the kitchen.\n"
     ]
    }
   ]
  },
  {
   "cell_type": "code",
   "source": [
    "book_data['category'].unique()"
   ],
   "metadata": {
    "id": "2s-YffHPt0Jz",
    "ExecuteTime": {
     "start_time": "2024-09-25T17:42:54.138822800Z"
    }
   },
   "execution_count": null,
   "outputs": []
  },
  {
   "cell_type": "code",
   "source": [],
   "metadata": {
    "id": "nHNeh8E7TGtM",
    "ExecuteTime": {
     "start_time": "2024-09-25T17:42:54.154447200Z"
    }
   },
   "execution_count": null,
   "outputs": []
  }
 ]
}
